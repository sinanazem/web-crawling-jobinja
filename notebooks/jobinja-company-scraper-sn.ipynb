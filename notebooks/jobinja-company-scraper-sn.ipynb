{
 "cells": [
  {
   "cell_type": "markdown",
   "metadata": {},
   "source": [
    "## Scrape Page HTML Contents"
   ]
  },
  {
   "cell_type": "code",
   "execution_count": 4,
   "metadata": {},
   "outputs": [],
   "source": [
    "import requests\n",
    "from bs4 import BeautifulSoup\n",
    "import json\n",
    "import time\n",
    "from loguru import logger\n",
    "\n",
    "\n",
    "logger.add(\"scraper.log\", level=\"INFO\", format=\"{time} - {level} - {message}\")\n",
    "\n",
    "# Define the base URL and headers\n",
    "base_url = \"https://jobinja.ir/companies?page=\"\n",
    "headers = {\n",
    "    \"User-Agent\": \"Mozilla/5.0 (Windows NT 10.0; Win64; x64) AppleWebKit/537.36 (KHTML, like Gecko) Chrome/58.0.3029.110 Safari/537.36\"\n",
    "}\n",
    "\n",
    "# Dictionary to store page content\n",
    "page_contents = []\n",
    "\n",
    "# Function to scrape a single page\n",
    "def scrape_page(page_number):\n",
    "    url = base_url + str(page_number)\n",
    "    try:\n",
    "        response = requests.get(url, headers=headers)\n",
    "        response.raise_for_status()  # Raises an HTTPError for bad responses\n",
    "        page_contents.append({\n",
    "            'page_number': page_number,\n",
    "            'html_content': response.text\n",
    "        })\n",
    "        logger.info(f\"Successfully scraped page {page_number}\")\n",
    "    except requests.exceptions.HTTPError as http_err:\n",
    "        logger.error(f\"HTTP error occurred while scraping page {page_number}: {http_err}\")\n",
    "    except Exception as err:\n",
    "        logger.error(f\"An error occurred while scraping page {page_number}: {err}\")\n",
    "\n",
    "# Function to save results to a JSON file\n",
    "def save_results(filename='page_contents.json'):\n",
    "    try:\n",
    "        with open(filename, 'w', encoding='utf-8') as file:\n",
    "            json.dump(page_contents, file, ensure_ascii=False, indent=4)\n",
    "        logger.info(f\"Scraping completed and data saved to {filename}\")\n",
    "    except Exception as e:\n",
    "        logger.error(f\"An error occurred while saving the data to file: {e}\")\n",
    "\n",
    "# Scrape pages\n",
    "def scrape_pages(start_page, end_page, delay=2):\n",
    "    for page_number in range(start_page, end_page + 1):\n",
    "        scrape_page(page_number)\n",
    "        time.sleep(delay)  # Sleep to avoid overwhelming the server\n",
    "\n",
    "# Scrape all pages from 1 to 1000\n",
    "scrape_pages(start_page=1, end_page=120)\n",
    "\n",
    "# Save the results to a JSON file\n",
    "save_results(\"page_number_html_contents_1_120.json\")\n"
   ]
  },
  {
   "cell_type": "markdown",
   "metadata": {},
   "source": [
    "## Extract URLs From All Pages:"
   ]
  },
  {
   "cell_type": "markdown",
   "metadata": {},
   "source": [
    "### Read page content data"
   ]
  },
  {
   "cell_type": "code",
   "execution_count": 33,
   "metadata": {},
   "outputs": [],
   "source": [
    "# Load JSON data from file\n",
    "with open('page_number_html_contents_1_120.json', 'r', encoding='utf-8') as file:\n",
    "    page_number_html_contents = json.load(file)"
   ]
  },
  {
   "cell_type": "markdown",
   "metadata": {},
   "source": [
    "### Function to extract links from HTML content"
   ]
  },
  {
   "cell_type": "code",
   "execution_count": 36,
   "metadata": {},
   "outputs": [],
   "source": [
    "def extract_links(html_content):\n",
    "    soup = BeautifulSoup(html_content, 'html.parser')\n",
    "    links = [a['href'] for a in soup.find_all('a', href=True,attrs={\"class\":\"c-companyOverview\"})]\n",
    "    return links\n"
   ]
  },
  {
   "cell_type": "code",
   "execution_count": 6,
   "metadata": {},
   "outputs": [],
   "source": [
    "# Process each page's HTML content\n",
    "url_results = []\n",
    "for item in page_number_html_contents:\n",
    "    page_number = item['page_number']\n",
    "    html_content = item['html_content']\n",
    "    links = extract_links(html_content)\n",
    "    \n",
    "    url_results.append(\n",
    "        {\n",
    "            \"page_number\":page_number,\n",
    "            \"url_list\": links\n",
    "        }\n",
    "    )\n",
    "    print(f\"Links on page {page_number}\")"
   ]
  },
  {
   "cell_type": "code",
   "execution_count": 41,
   "metadata": {},
   "outputs": [],
   "source": [
    "# Save the results to a JSON file\n",
    "with open('url_list_page_number_1_120.json', 'w', encoding='utf-8') as file:\n",
    "    json.dump(url_results, file, ensure_ascii=False, indent=4)"
   ]
  },
  {
   "cell_type": "markdown",
   "metadata": {},
   "source": [
    "### Function to fetch HTML content from a URL"
   ]
  },
  {
   "cell_type": "code",
   "execution_count": 42,
   "metadata": {},
   "outputs": [],
   "source": [
    "def fetch_html(url):\n",
    "    headers = {\n",
    "    \"User-Agent\": \"Mozilla/5.0 (Windows NT 10.0; Win64; x64) AppleWebKit/537.36 (KHTML, like Gecko) Chrome/58.0.3029.110 Safari/537.36\"\n",
    "    }\n",
    "    try:\n",
    "        response = requests.get(url, headers=headers)\n",
    "        if response.status_code == 200:\n",
    "            return response.text\n",
    "        else:\n",
    "            print(f\"Failed to fetch {url} with status code {response.status_code}\")\n",
    "            return None\n",
    "    except Exception as e:\n",
    "        print(f\"An error occurred while fetching {url}: {e}\")\n",
    "        return None"
   ]
  },
  {
   "cell_type": "code",
   "execution_count": null,
   "metadata": {},
   "outputs": [],
   "source": []
  }
 ],
 "metadata": {
  "kernelspec": {
   "display_name": "numbeo",
   "language": "python",
   "name": "python3"
  },
  "language_info": {
   "codemirror_mode": {
    "name": "ipython",
    "version": 3
   },
   "file_extension": ".py",
   "mimetype": "text/x-python",
   "name": "python",
   "nbconvert_exporter": "python",
   "pygments_lexer": "ipython3",
   "version": "3.11.9"
  }
 },
 "nbformat": 4,
 "nbformat_minor": 2
}
